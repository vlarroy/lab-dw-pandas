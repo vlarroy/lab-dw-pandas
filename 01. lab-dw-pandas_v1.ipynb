{
 "cells": [
  {
   "cell_type": "markdown",
   "id": "25d7736c-ba17-4aff-b6bb-66eba20fbf4e",
   "metadata": {},
   "source": [
    "# Lab | Pandas"
   ]
  },
  {
   "cell_type": "markdown",
   "id": "d1973e9e-8be6-4039-b70e-d73ee0d94c99",
   "metadata": {},
   "source": [
    "In this lab, we will be working with the customer data from an insurance company, which can be found in the CSV file located at the following link: https://raw.githubusercontent.com/data-bootcamp-v4/data/main/file1.csv\n",
    "\n",
    "The data includes information such as customer ID, state, gender, education, income, and other variables that can be used to perform various analyses.\n",
    "\n",
    "Throughout the lab, we will be using the pandas library in Python to manipulate and analyze the data. Pandas is a powerful library that provides various data manipulation and analysis tools, including the ability to load and manipulate data from a variety of sources, including CSV files."
   ]
  },
  {
   "cell_type": "markdown",
   "id": "8045146f-f4f7-44d9-8cd9-130d6400c73a",
   "metadata": {},
   "source": [
    "### Data Description\n",
    "\n",
    "- Customer - Customer ID\n",
    "\n",
    "- ST - State where customers live\n",
    "\n",
    "- Gender - Gender of the customer\n",
    "\n",
    "- Education - Background education of customers \n",
    "\n",
    "- Customer Lifetime Value - Customer lifetime value(CLV) is the total revenue the client will derive from their entire relationship with a customer. In other words, is the predicted or calculated value of a customer over their entire duration as a policyholder with the insurance company. It is an estimation of the net profit that the insurance company expects to generate from a customer throughout their relationship with the company. Customer Lifetime Value takes into account factors such as the duration of the customer's policy, premium payments, claim history, renewal likelihood, and potential additional services or products the customer may purchase. It helps insurers assess the long-term profitability and value associated with retaining a particular customer.\n",
    "\n",
    "- Income - Customers income\n",
    "\n",
    "- Monthly Premium Auto - Amount of money the customer pays on a monthly basis as a premium for their auto insurance coverage. It represents the recurring cost that the insured person must pay to maintain their insurance policy and receive coverage for potential damages, accidents, or other covered events related to their vehicle.\n",
    "\n",
    "- Number of Open Complaints - Number of complaints the customer opened\n",
    "\n",
    "- Policy Type - There are three type of policies in car insurance (Corporate Auto, Personal Auto, and Special Auto)\n",
    "\n",
    "- Vehicle Class - Type of vehicle classes that customers have Two-Door Car, Four-Door Car SUV, Luxury SUV, Sports Car, and Luxury Car\n",
    "\n",
    "- Total Claim Amount - the sum of all claims made by the customer. It represents the total monetary value of all approved claims for incidents such as accidents, theft, vandalism, or other covered events.\n"
   ]
  },
  {
   "cell_type": "markdown",
   "id": "3a72419b-20fc-4905-817a-8c83abc59de6",
   "metadata": {},
   "source": [
    "External Resources: https://towardsdatascience.com/filtering-data-frames-in-pandas-b570b1f834b9"
   ]
  },
  {
   "cell_type": "markdown",
   "id": "8f8ece17-e919-4e23-96c0-c7c59778436a",
   "metadata": {},
   "source": [
    "## Challenge 1: Understanding the data\n",
    "\n",
    "In this challenge, you will use pandas to explore a given dataset. Your task is to gain a deep understanding of the data by analyzing its characteristics, dimensions, and statistical properties."
   ]
  },
  {
   "cell_type": "markdown",
   "id": "91437bd5-59a6-49c0-8150-ef0e6e6eb253",
   "metadata": {},
   "source": [
    "- Identify the dimensions of the dataset by determining the number of rows and columns it contains.\n",
    "- Determine the data types of each column and evaluate whether they are appropriate for the nature of the variable. You should also provide suggestions for fixing any incorrect data types.\n",
    "- Identify the number of unique values for each column and determine which columns appear to be categorical. You should also describe the unique values of each categorical column and the range of values for numerical columns, and give your insights.\n",
    "- Compute summary statistics such as mean, median, mode, standard deviation, and quartiles to understand the central tendency and distribution of the data for numerical columns. You should also provide your conclusions based on these summary statistics.\n",
    "- Compute summary statistics for categorical columns and providing your conclusions based on these statistics."
   ]
  },
  {
   "cell_type": "code",
   "execution_count": 2,
   "id": "dd4e8cd8-a6f6-486c-a5c4-1745b0c035f4",
   "metadata": {},
   "outputs": [],
   "source": [
    "import pandas as pd\n",
    "import numpy as np"
   ]
  },
  {
   "cell_type": "code",
   "execution_count": 3,
   "id": "34583ccd",
   "metadata": {},
   "outputs": [],
   "source": [
    "customers = pd.read_csv(\"file1.csv\")"
   ]
  },
  {
   "cell_type": "code",
   "execution_count": 4,
   "id": "26408c41",
   "metadata": {},
   "outputs": [
    {
     "data": {
      "text/plain": [
       "(4008, 11)"
      ]
     },
     "execution_count": 4,
     "metadata": {},
     "output_type": "execute_result"
    }
   ],
   "source": [
    "#1.1 Identify the dimensions of the dataset by determinating the number of rows and columns it contains.\n",
    "customers.shape"
   ]
  },
  {
   "cell_type": "code",
   "execution_count": 5,
   "id": "f9b92d18",
   "metadata": {},
   "outputs": [
    {
     "name": "stdout",
     "output_type": "stream",
     "text": [
      "<class 'pandas.core.frame.DataFrame'>\n",
      "RangeIndex: 4008 entries, 0 to 4007\n",
      "Data columns (total 11 columns):\n",
      " #   Column                     Non-Null Count  Dtype  \n",
      "---  ------                     --------------  -----  \n",
      " 0   Customer                   1071 non-null   object \n",
      " 1   ST                         1071 non-null   object \n",
      " 2   GENDER                     954 non-null    object \n",
      " 3   Education                  1071 non-null   object \n",
      " 4   Customer Lifetime Value    1068 non-null   object \n",
      " 5   Income                     1071 non-null   float64\n",
      " 6   Monthly Premium Auto       1071 non-null   float64\n",
      " 7   Number of Open Complaints  1071 non-null   object \n",
      " 8   Policy Type                1071 non-null   object \n",
      " 9   Vehicle Class              1071 non-null   object \n",
      " 10  Total Claim Amount         1071 non-null   float64\n",
      "dtypes: float64(3), object(8)\n",
      "memory usage: 344.6+ KB\n"
     ]
    }
   ],
   "source": [
    "#1.2 Determine the data types of each columns and evañluate whether they are appropriate for the nature of the variable. \n",
    "# You should also provide suggestions for fixing any incorrect data types. \n",
    "customers.info()\n",
    "\n",
    "#In my opinion:\n",
    "# - Gender can be changed to Boolean (True for M and F for Female, for example)\n",
    "# - Number of Open Complaints -> integer\n",
    "# CLV -> float, it should represent revenue, not percentage of x. "
   ]
  },
  {
   "cell_type": "code",
   "execution_count": 6,
   "id": "9232a5d9",
   "metadata": {},
   "outputs": [],
   "source": [
    "#To change the CLV from % to float, first we need to delete the %.\n",
    "customers['Customer Lifetime Value'] = customers['Customer Lifetime Value'].str.rstrip('%').astype('float') / 100.0"
   ]
  },
  {
   "cell_type": "code",
   "execution_count": 8,
   "id": "eed845fc",
   "metadata": {},
   "outputs": [
    {
     "data": {
      "text/plain": [
       "Customer                     1071\n",
       "ST                              8\n",
       "GENDER                          5\n",
       "Education                       6\n",
       "Customer Lifetime Value      1027\n",
       "Income                        774\n",
       "Monthly Premium Auto          132\n",
       "Number of Open Complaints       6\n",
       "Policy Type                     3\n",
       "Vehicle Class                   6\n",
       "Total Claim Amount            761\n",
       "dtype: int64"
      ]
     },
     "execution_count": 8,
     "metadata": {},
     "output_type": "execute_result"
    }
   ],
   "source": [
    "# 1.3 Identify the number of unique values per column and determine which columns appear to be categorical.\n",
    "# You should also describe the unique values for each categorical column and the range of values for numerical columns, and give your insights.\n",
    "customers.nunique()\n",
    "\n",
    "#Columns that appear to be categorical:\n",
    "# Gender - categorical. However, the number of unique values is 5, which should be 2. This will need to be checked and clean before analyzing. \n",
    "# Education - categorical ordinal variable\n",
    "# Policy type - categorical variable\n",
    "# Vehicle class - categorical ordinal variable"
   ]
  },
  {
   "cell_type": "code",
   "execution_count": 9,
   "id": "c1a63b36",
   "metadata": {},
   "outputs": [
    {
     "data": {
      "text/plain": [
       "array([nan, 'F', 'M', 'Femal', 'Male', 'female'], dtype=object)"
      ]
     },
     "execution_count": 9,
     "metadata": {},
     "output_type": "execute_result"
    }
   ],
   "source": [
    "#Let's fix the GENDER category. \n",
    "#First, I want to know the 5 distinct values. \n",
    "customers[\"GENDER\"].unique()\n",
    "#We can see that there is no consistency when determining the gender. Also, we can see NaNs. \n",
    "#Let's focus first on consistency issues. #To do so, we can create a function that helps us with this and return a boolean (True for Male and False for Female)"
   ]
  },
  {
   "cell_type": "code",
   "execution_count": 10,
   "id": "d1fe37f6",
   "metadata": {},
   "outputs": [],
   "source": [
    "#Defining a function to clean the GENDER column:\n",
    "def gender_consistency(genders):\n",
    "    if genders == np.nan:\n",
    "        return np.nan\n",
    "    if genders == \"M\" or genders == \"Male\":\n",
    "        return True\n",
    "    if genders == \"F\" or genders == \"Femal\" or genders == \"female\":\n",
    "        return False\n",
    "    else:\n",
    "        return np.nan"
   ]
  },
  {
   "cell_type": "code",
   "execution_count": 11,
   "id": "f092cb5d",
   "metadata": {},
   "outputs": [
    {
     "data": {
      "text/plain": [
       "0        True\n",
       "1       False\n",
       "2       False\n",
       "3        True\n",
       "4        True\n",
       "        ...  \n",
       "4003     True\n",
       "4004     True\n",
       "4005     True\n",
       "4006     True\n",
       "4007     True\n",
       "Name: GENDER, Length: 4008, dtype: bool"
      ]
     },
     "execution_count": 11,
     "metadata": {},
     "output_type": "execute_result"
    }
   ],
   "source": [
    "#Test the gender_consistency() function and convert the column to Boolean.\n",
    "customers[\"GENDER\"].apply(gender_consistency).astype('bool')"
   ]
  },
  {
   "cell_type": "code",
   "execution_count": 13,
   "id": "327ee9be",
   "metadata": {},
   "outputs": [
    {
     "data": {
      "text/html": [
       "<div>\n",
       "<style scoped>\n",
       "    .dataframe tbody tr th:only-of-type {\n",
       "        vertical-align: middle;\n",
       "    }\n",
       "\n",
       "    .dataframe tbody tr th {\n",
       "        vertical-align: top;\n",
       "    }\n",
       "\n",
       "    .dataframe thead th {\n",
       "        text-align: right;\n",
       "    }\n",
       "</style>\n",
       "<table border=\"1\" class=\"dataframe\">\n",
       "  <thead>\n",
       "    <tr style=\"text-align: right;\">\n",
       "      <th></th>\n",
       "      <th>Customer</th>\n",
       "      <th>ST</th>\n",
       "      <th>GENDER</th>\n",
       "      <th>Education</th>\n",
       "      <th>Customer Lifetime Value</th>\n",
       "      <th>Income</th>\n",
       "      <th>Monthly Premium Auto</th>\n",
       "      <th>Number of Open Complaints</th>\n",
       "      <th>Policy Type</th>\n",
       "      <th>Vehicle Class</th>\n",
       "      <th>Total Claim Amount</th>\n",
       "    </tr>\n",
       "  </thead>\n",
       "  <tbody>\n",
       "    <tr>\n",
       "      <th>0</th>\n",
       "      <td>RB50392</td>\n",
       "      <td>Washington</td>\n",
       "      <td>NaN</td>\n",
       "      <td>Master</td>\n",
       "      <td>NaN</td>\n",
       "      <td>0.0</td>\n",
       "      <td>1000.0</td>\n",
       "      <td>1/0/00</td>\n",
       "      <td>Personal Auto</td>\n",
       "      <td>Four-Door Car</td>\n",
       "      <td>2.704934</td>\n",
       "    </tr>\n",
       "    <tr>\n",
       "      <th>11</th>\n",
       "      <td>VQ65197</td>\n",
       "      <td>California</td>\n",
       "      <td>NaN</td>\n",
       "      <td>College</td>\n",
       "      <td>8197.1971</td>\n",
       "      <td>0.0</td>\n",
       "      <td>110.0</td>\n",
       "      <td>1/0/00</td>\n",
       "      <td>Personal Auto</td>\n",
       "      <td>SUV</td>\n",
       "      <td>528.000000</td>\n",
       "    </tr>\n",
       "    <tr>\n",
       "      <th>12</th>\n",
       "      <td>DP39365</td>\n",
       "      <td>California</td>\n",
       "      <td>NaN</td>\n",
       "      <td>Master</td>\n",
       "      <td>8798.7970</td>\n",
       "      <td>77026.0</td>\n",
       "      <td>110.0</td>\n",
       "      <td>1/2/00</td>\n",
       "      <td>Corporate Auto</td>\n",
       "      <td>Four-Door Car</td>\n",
       "      <td>472.029737</td>\n",
       "    </tr>\n",
       "    <tr>\n",
       "      <th>13</th>\n",
       "      <td>SJ95423</td>\n",
       "      <td>Arizona</td>\n",
       "      <td>NaN</td>\n",
       "      <td>High School or Below</td>\n",
       "      <td>8819.0189</td>\n",
       "      <td>99845.0</td>\n",
       "      <td>110.0</td>\n",
       "      <td>1/1/00</td>\n",
       "      <td>Corporate Auto</td>\n",
       "      <td>SUV</td>\n",
       "      <td>528.000000</td>\n",
       "    </tr>\n",
       "    <tr>\n",
       "      <th>14</th>\n",
       "      <td>IL66569</td>\n",
       "      <td>California</td>\n",
       "      <td>NaN</td>\n",
       "      <td>College</td>\n",
       "      <td>5384.4317</td>\n",
       "      <td>83689.0</td>\n",
       "      <td>70.0</td>\n",
       "      <td>1/2/00</td>\n",
       "      <td>Corporate Auto</td>\n",
       "      <td>Four-Door Car</td>\n",
       "      <td>307.139132</td>\n",
       "    </tr>\n",
       "    <tr>\n",
       "      <th>...</th>\n",
       "      <td>...</td>\n",
       "      <td>...</td>\n",
       "      <td>...</td>\n",
       "      <td>...</td>\n",
       "      <td>...</td>\n",
       "      <td>...</td>\n",
       "      <td>...</td>\n",
       "      <td>...</td>\n",
       "      <td>...</td>\n",
       "      <td>...</td>\n",
       "      <td>...</td>\n",
       "    </tr>\n",
       "    <tr>\n",
       "      <th>4003</th>\n",
       "      <td>NaN</td>\n",
       "      <td>NaN</td>\n",
       "      <td>NaN</td>\n",
       "      <td>NaN</td>\n",
       "      <td>NaN</td>\n",
       "      <td>NaN</td>\n",
       "      <td>NaN</td>\n",
       "      <td>NaN</td>\n",
       "      <td>NaN</td>\n",
       "      <td>NaN</td>\n",
       "      <td>NaN</td>\n",
       "    </tr>\n",
       "    <tr>\n",
       "      <th>4004</th>\n",
       "      <td>NaN</td>\n",
       "      <td>NaN</td>\n",
       "      <td>NaN</td>\n",
       "      <td>NaN</td>\n",
       "      <td>NaN</td>\n",
       "      <td>NaN</td>\n",
       "      <td>NaN</td>\n",
       "      <td>NaN</td>\n",
       "      <td>NaN</td>\n",
       "      <td>NaN</td>\n",
       "      <td>NaN</td>\n",
       "    </tr>\n",
       "    <tr>\n",
       "      <th>4005</th>\n",
       "      <td>NaN</td>\n",
       "      <td>NaN</td>\n",
       "      <td>NaN</td>\n",
       "      <td>NaN</td>\n",
       "      <td>NaN</td>\n",
       "      <td>NaN</td>\n",
       "      <td>NaN</td>\n",
       "      <td>NaN</td>\n",
       "      <td>NaN</td>\n",
       "      <td>NaN</td>\n",
       "      <td>NaN</td>\n",
       "    </tr>\n",
       "    <tr>\n",
       "      <th>4006</th>\n",
       "      <td>NaN</td>\n",
       "      <td>NaN</td>\n",
       "      <td>NaN</td>\n",
       "      <td>NaN</td>\n",
       "      <td>NaN</td>\n",
       "      <td>NaN</td>\n",
       "      <td>NaN</td>\n",
       "      <td>NaN</td>\n",
       "      <td>NaN</td>\n",
       "      <td>NaN</td>\n",
       "      <td>NaN</td>\n",
       "    </tr>\n",
       "    <tr>\n",
       "      <th>4007</th>\n",
       "      <td>NaN</td>\n",
       "      <td>NaN</td>\n",
       "      <td>NaN</td>\n",
       "      <td>NaN</td>\n",
       "      <td>NaN</td>\n",
       "      <td>NaN</td>\n",
       "      <td>NaN</td>\n",
       "      <td>NaN</td>\n",
       "      <td>NaN</td>\n",
       "      <td>NaN</td>\n",
       "      <td>NaN</td>\n",
       "    </tr>\n",
       "  </tbody>\n",
       "</table>\n",
       "<p>3054 rows × 11 columns</p>\n",
       "</div>"
      ],
      "text/plain": [
       "     Customer          ST GENDER             Education  \\\n",
       "0     RB50392  Washington    NaN                Master   \n",
       "11    VQ65197  California    NaN               College   \n",
       "12    DP39365  California    NaN                Master   \n",
       "13    SJ95423     Arizona    NaN  High School or Below   \n",
       "14    IL66569  California    NaN               College   \n",
       "...       ...         ...    ...                   ...   \n",
       "4003      NaN         NaN    NaN                   NaN   \n",
       "4004      NaN         NaN    NaN                   NaN   \n",
       "4005      NaN         NaN    NaN                   NaN   \n",
       "4006      NaN         NaN    NaN                   NaN   \n",
       "4007      NaN         NaN    NaN                   NaN   \n",
       "\n",
       "      Customer Lifetime Value   Income  Monthly Premium Auto  \\\n",
       "0                         NaN      0.0                1000.0   \n",
       "11                  8197.1971      0.0                 110.0   \n",
       "12                  8798.7970  77026.0                 110.0   \n",
       "13                  8819.0189  99845.0                 110.0   \n",
       "14                  5384.4317  83689.0                  70.0   \n",
       "...                       ...      ...                   ...   \n",
       "4003                      NaN      NaN                   NaN   \n",
       "4004                      NaN      NaN                   NaN   \n",
       "4005                      NaN      NaN                   NaN   \n",
       "4006                      NaN      NaN                   NaN   \n",
       "4007                      NaN      NaN                   NaN   \n",
       "\n",
       "     Number of Open Complaints     Policy Type  Vehicle Class  \\\n",
       "0                       1/0/00   Personal Auto  Four-Door Car   \n",
       "11                      1/0/00   Personal Auto            SUV   \n",
       "12                      1/2/00  Corporate Auto  Four-Door Car   \n",
       "13                      1/1/00  Corporate Auto            SUV   \n",
       "14                      1/2/00  Corporate Auto  Four-Door Car   \n",
       "...                        ...             ...            ...   \n",
       "4003                       NaN             NaN            NaN   \n",
       "4004                       NaN             NaN            NaN   \n",
       "4005                       NaN             NaN            NaN   \n",
       "4006                       NaN             NaN            NaN   \n",
       "4007                       NaN             NaN            NaN   \n",
       "\n",
       "      Total Claim Amount  \n",
       "0               2.704934  \n",
       "11            528.000000  \n",
       "12            472.029737  \n",
       "13            528.000000  \n",
       "14            307.139132  \n",
       "...                  ...  \n",
       "4003                 NaN  \n",
       "4004                 NaN  \n",
       "4005                 NaN  \n",
       "4006                 NaN  \n",
       "4007                 NaN  \n",
       "\n",
       "[3054 rows x 11 columns]"
      ]
     },
     "execution_count": 13,
     "metadata": {},
     "output_type": "execute_result"
    }
   ],
   "source": [
    "#Now that we have dealth with gender consistency, it's time to focus on the following question: why are there so many NaNs for gender.\n",
    "#What should be do with them?????\n",
    "#Well, it depends on what is it for that you are going to use this column.\n",
    "customers[customers[\"GENDER\"].isnull()]\n",
    "\n",
    "#We see that there are many rows that contain NaNs in all the columns. let's get rid of those now.\n"
   ]
  },
  {
   "cell_type": "code",
   "execution_count": 15,
   "id": "72f0d1c4",
   "metadata": {},
   "outputs": [
    {
     "data": {
      "text/plain": [
       "(1071, 11)"
      ]
     },
     "execution_count": 15,
     "metadata": {},
     "output_type": "execute_result"
    }
   ],
   "source": [
    "#We see that there are many rows that contain NaNs in all the columns. let's get rid of those now.\n",
    "#Delete rows that have all values ​​​​null (display):\n",
    "customers.dropna(axis=0, how=\"all\", inplace=True)\n",
    "customers.shape #Doing customers.shape we can see that now instead of having >4k entries, we have only 1071."
   ]
  },
  {
   "cell_type": "code",
   "execution_count": 16,
   "id": "69d4bf3f",
   "metadata": {},
   "outputs": [
    {
     "data": {
      "text/html": [
       "<div>\n",
       "<style scoped>\n",
       "    .dataframe tbody tr th:only-of-type {\n",
       "        vertical-align: middle;\n",
       "    }\n",
       "\n",
       "    .dataframe tbody tr th {\n",
       "        vertical-align: top;\n",
       "    }\n",
       "\n",
       "    .dataframe thead th {\n",
       "        text-align: right;\n",
       "    }\n",
       "</style>\n",
       "<table border=\"1\" class=\"dataframe\">\n",
       "  <thead>\n",
       "    <tr style=\"text-align: right;\">\n",
       "      <th></th>\n",
       "      <th>Customer</th>\n",
       "      <th>ST</th>\n",
       "      <th>GENDER</th>\n",
       "      <th>Education</th>\n",
       "      <th>Customer Lifetime Value</th>\n",
       "      <th>Income</th>\n",
       "      <th>Monthly Premium Auto</th>\n",
       "      <th>Number of Open Complaints</th>\n",
       "      <th>Policy Type</th>\n",
       "      <th>Vehicle Class</th>\n",
       "      <th>Total Claim Amount</th>\n",
       "    </tr>\n",
       "  </thead>\n",
       "  <tbody>\n",
       "    <tr>\n",
       "      <th>0</th>\n",
       "      <td>RB50392</td>\n",
       "      <td>Washington</td>\n",
       "      <td>NaN</td>\n",
       "      <td>Master</td>\n",
       "      <td>NaN</td>\n",
       "      <td>0.0</td>\n",
       "      <td>1000.0</td>\n",
       "      <td>1/0/00</td>\n",
       "      <td>Personal Auto</td>\n",
       "      <td>Four-Door Car</td>\n",
       "      <td>2.704934</td>\n",
       "    </tr>\n",
       "    <tr>\n",
       "      <th>11</th>\n",
       "      <td>VQ65197</td>\n",
       "      <td>California</td>\n",
       "      <td>NaN</td>\n",
       "      <td>College</td>\n",
       "      <td>8197.1971</td>\n",
       "      <td>0.0</td>\n",
       "      <td>110.0</td>\n",
       "      <td>1/0/00</td>\n",
       "      <td>Personal Auto</td>\n",
       "      <td>SUV</td>\n",
       "      <td>528.000000</td>\n",
       "    </tr>\n",
       "    <tr>\n",
       "      <th>12</th>\n",
       "      <td>DP39365</td>\n",
       "      <td>California</td>\n",
       "      <td>NaN</td>\n",
       "      <td>Master</td>\n",
       "      <td>8798.7970</td>\n",
       "      <td>77026.0</td>\n",
       "      <td>110.0</td>\n",
       "      <td>1/2/00</td>\n",
       "      <td>Corporate Auto</td>\n",
       "      <td>Four-Door Car</td>\n",
       "      <td>472.029737</td>\n",
       "    </tr>\n",
       "    <tr>\n",
       "      <th>13</th>\n",
       "      <td>SJ95423</td>\n",
       "      <td>Arizona</td>\n",
       "      <td>NaN</td>\n",
       "      <td>High School or Below</td>\n",
       "      <td>8819.0189</td>\n",
       "      <td>99845.0</td>\n",
       "      <td>110.0</td>\n",
       "      <td>1/1/00</td>\n",
       "      <td>Corporate Auto</td>\n",
       "      <td>SUV</td>\n",
       "      <td>528.000000</td>\n",
       "    </tr>\n",
       "    <tr>\n",
       "      <th>14</th>\n",
       "      <td>IL66569</td>\n",
       "      <td>California</td>\n",
       "      <td>NaN</td>\n",
       "      <td>College</td>\n",
       "      <td>5384.4317</td>\n",
       "      <td>83689.0</td>\n",
       "      <td>70.0</td>\n",
       "      <td>1/2/00</td>\n",
       "      <td>Corporate Auto</td>\n",
       "      <td>Four-Door Car</td>\n",
       "      <td>307.139132</td>\n",
       "    </tr>\n",
       "    <tr>\n",
       "      <th>...</th>\n",
       "      <td>...</td>\n",
       "      <td>...</td>\n",
       "      <td>...</td>\n",
       "      <td>...</td>\n",
       "      <td>...</td>\n",
       "      <td>...</td>\n",
       "      <td>...</td>\n",
       "      <td>...</td>\n",
       "      <td>...</td>\n",
       "      <td>...</td>\n",
       "      <td>...</td>\n",
       "    </tr>\n",
       "    <tr>\n",
       "      <th>134</th>\n",
       "      <td>BU44523</td>\n",
       "      <td>AZ</td>\n",
       "      <td>NaN</td>\n",
       "      <td>High School or Below</td>\n",
       "      <td>8026.3796</td>\n",
       "      <td>0.0</td>\n",
       "      <td>74.0</td>\n",
       "      <td>1/0/00</td>\n",
       "      <td>Corporate Auto</td>\n",
       "      <td>Four-Door Car</td>\n",
       "      <td>532.800000</td>\n",
       "    </tr>\n",
       "    <tr>\n",
       "      <th>135</th>\n",
       "      <td>MS41162</td>\n",
       "      <td>AZ</td>\n",
       "      <td>NaN</td>\n",
       "      <td>High School or Below</td>\n",
       "      <td>4022.9635</td>\n",
       "      <td>0.0</td>\n",
       "      <td>117.0</td>\n",
       "      <td>1/0/00</td>\n",
       "      <td>Personal Auto</td>\n",
       "      <td>SUV</td>\n",
       "      <td>975.107098</td>\n",
       "    </tr>\n",
       "    <tr>\n",
       "      <th>136</th>\n",
       "      <td>PU25891</td>\n",
       "      <td>Oregon</td>\n",
       "      <td>NaN</td>\n",
       "      <td>High School or Below</td>\n",
       "      <td>9618.3109</td>\n",
       "      <td>80536.0</td>\n",
       "      <td>119.0</td>\n",
       "      <td>1/0/00</td>\n",
       "      <td>Special Auto</td>\n",
       "      <td>Sports Car</td>\n",
       "      <td>53.798708</td>\n",
       "    </tr>\n",
       "    <tr>\n",
       "      <th>138</th>\n",
       "      <td>SX26335</td>\n",
       "      <td>Oregon</td>\n",
       "      <td>NaN</td>\n",
       "      <td>College</td>\n",
       "      <td>9552.9269</td>\n",
       "      <td>97732.0</td>\n",
       "      <td>79.0</td>\n",
       "      <td>1/0/00</td>\n",
       "      <td>Personal Auto</td>\n",
       "      <td>Four-Door Car</td>\n",
       "      <td>289.912200</td>\n",
       "    </tr>\n",
       "    <tr>\n",
       "      <th>449</th>\n",
       "      <td>LN31673</td>\n",
       "      <td>Washington</td>\n",
       "      <td>NaN</td>\n",
       "      <td>College</td>\n",
       "      <td>11318.0898</td>\n",
       "      <td>38923.0</td>\n",
       "      <td>99.0</td>\n",
       "      <td>1/2/00</td>\n",
       "      <td>Personal Auto</td>\n",
       "      <td>Four-Door Car</td>\n",
       "      <td>115.728852</td>\n",
       "    </tr>\n",
       "  </tbody>\n",
       "</table>\n",
       "<p>117 rows × 11 columns</p>\n",
       "</div>"
      ],
      "text/plain": [
       "    Customer          ST GENDER             Education  \\\n",
       "0    RB50392  Washington    NaN                Master   \n",
       "11   VQ65197  California    NaN               College   \n",
       "12   DP39365  California    NaN                Master   \n",
       "13   SJ95423     Arizona    NaN  High School or Below   \n",
       "14   IL66569  California    NaN               College   \n",
       "..       ...         ...    ...                   ...   \n",
       "134  BU44523          AZ    NaN  High School or Below   \n",
       "135  MS41162          AZ    NaN  High School or Below   \n",
       "136  PU25891      Oregon    NaN  High School or Below   \n",
       "138  SX26335      Oregon    NaN               College   \n",
       "449  LN31673  Washington    NaN               College   \n",
       "\n",
       "     Customer Lifetime Value   Income  Monthly Premium Auto  \\\n",
       "0                        NaN      0.0                1000.0   \n",
       "11                 8197.1971      0.0                 110.0   \n",
       "12                 8798.7970  77026.0                 110.0   \n",
       "13                 8819.0189  99845.0                 110.0   \n",
       "14                 5384.4317  83689.0                  70.0   \n",
       "..                       ...      ...                   ...   \n",
       "134                8026.3796      0.0                  74.0   \n",
       "135                4022.9635      0.0                 117.0   \n",
       "136                9618.3109  80536.0                 119.0   \n",
       "138                9552.9269  97732.0                  79.0   \n",
       "449               11318.0898  38923.0                  99.0   \n",
       "\n",
       "    Number of Open Complaints     Policy Type  Vehicle Class  \\\n",
       "0                      1/0/00   Personal Auto  Four-Door Car   \n",
       "11                     1/0/00   Personal Auto            SUV   \n",
       "12                     1/2/00  Corporate Auto  Four-Door Car   \n",
       "13                     1/1/00  Corporate Auto            SUV   \n",
       "14                     1/2/00  Corporate Auto  Four-Door Car   \n",
       "..                        ...             ...            ...   \n",
       "134                    1/0/00  Corporate Auto  Four-Door Car   \n",
       "135                    1/0/00   Personal Auto            SUV   \n",
       "136                    1/0/00    Special Auto     Sports Car   \n",
       "138                    1/0/00   Personal Auto  Four-Door Car   \n",
       "449                    1/2/00   Personal Auto  Four-Door Car   \n",
       "\n",
       "     Total Claim Amount  \n",
       "0              2.704934  \n",
       "11           528.000000  \n",
       "12           472.029737  \n",
       "13           528.000000  \n",
       "14           307.139132  \n",
       "..                  ...  \n",
       "134          532.800000  \n",
       "135          975.107098  \n",
       "136           53.798708  \n",
       "138          289.912200  \n",
       "449          115.728852  \n",
       "\n",
       "[117 rows x 11 columns]"
      ]
     },
     "execution_count": 16,
     "metadata": {},
     "output_type": "execute_result"
    }
   ],
   "source": [
    "#Let's check again the GENDER column.\n",
    "customers[customers[\"GENDER\"].isnull()] #By doing so, we have narrowed the NaN values for GENDER to 117. \n",
    "#As an idea, when during the analysis process, a new category for NaNs can be created in order to avoid biased or underepresented analysis."
   ]
  },
  {
   "cell_type": "code",
   "execution_count": 17,
   "id": "6943526c",
   "metadata": {},
   "outputs": [
    {
     "data": {
      "text/plain": [
       "array(['Washington', 'Arizona', 'Nevada', 'California', 'Oregon', 'Cali',\n",
       "       'AZ', 'WA'], dtype=object)"
      ]
     },
     "execution_count": 17,
     "metadata": {},
     "output_type": "execute_result"
    }
   ],
   "source": [
    "#No let's check the ST column: \n",
    "customers[\"ST\"].unique() #By applying the .unique() method, we can observe 3 things:\n",
    "# First: Cali should be California\n",
    "#Second: AZ should be Arizona\n",
    "#Third: WA should be Washington\n",
    "#To solve this problem, we can create a function that replaces wrong entries for the correct ones."
   ]
  },
  {
   "cell_type": "code",
   "execution_count": 18,
   "id": "975c55e7",
   "metadata": {},
   "outputs": [],
   "source": [
    "#Creating a function to clean the ST column:\n",
    "def state_consistency(states):\n",
    "    if states == \"AZ\":\n",
    "        return states.replace(\"AZ\", \"Arizona\")\n",
    "    if states == \"WA\":\n",
    "        return states.replace(\"WA\", \"Washington\")\n",
    "    if states == \"Cali\":\n",
    "        return states.replace(\"Cali\", \"California\")\n",
    "    else:\n",
    "        return np.nan"
   ]
  },
  {
   "cell_type": "code",
   "execution_count": 19,
   "id": "64d349ef",
   "metadata": {},
   "outputs": [
    {
     "data": {
      "text/plain": [
       "0              NaN\n",
       "1              NaN\n",
       "2              NaN\n",
       "3              NaN\n",
       "4              NaN\n",
       "           ...    \n",
       "1066           NaN\n",
       "1067    California\n",
       "1068           NaN\n",
       "1069           NaN\n",
       "1070           NaN\n",
       "Name: ST, Length: 1071, dtype: object"
      ]
     },
     "execution_count": 19,
     "metadata": {},
     "output_type": "execute_result"
    }
   ],
   "source": [
    "#Calling the state_consitency() function to fix the ST column:\n",
    "customers[\"ST\"].apply(state_consistency) #It worked!! It's fixed. We will think later how to handle NaNs. "
   ]
  },
  {
   "cell_type": "code",
   "execution_count": 20,
   "id": "620b2a3d",
   "metadata": {},
   "outputs": [
    {
     "data": {
      "text/plain": [
       "array(['Master', 'Bachelor', 'High School or Below', 'College',\n",
       "       'Bachelors', 'Doctor'], dtype=object)"
      ]
     },
     "execution_count": 20,
     "metadata": {},
     "output_type": "execute_result"
    }
   ],
   "source": [
    "#Let's check the Education column:\n",
    "customers[\"Education\"].unique() #By doing this, we can see that this column should also be fixed to have the following categories:\n",
    "#High School or Below, Bachelor, Master, Doctor"
   ]
  },
  {
   "cell_type": "code",
   "execution_count": 21,
   "id": "229226c5",
   "metadata": {},
   "outputs": [],
   "source": [
    "#Let's do it using a function again:\n",
    "def education_consistency(title):\n",
    "    if title == \"Bachelors\":\n",
    "        return title.replace(\"Bachelors\", \"Bachelor\")\n",
    "    if title == \"College\":\n",
    "        return title.replace(\"College\", \"Bachelor\")\n",
    "    else:\n",
    "        return np.nan"
   ]
  },
  {
   "cell_type": "code",
   "execution_count": 22,
   "id": "f4e48bdb",
   "metadata": {},
   "outputs": [
    {
     "data": {
      "text/plain": [
       "0            NaN\n",
       "1            NaN\n",
       "2            NaN\n",
       "3            NaN\n",
       "4            NaN\n",
       "          ...   \n",
       "1066         NaN\n",
       "1067         NaN\n",
       "1068         NaN\n",
       "1069         NaN\n",
       "1070    Bachelor\n",
       "Name: Education, Length: 1071, dtype: object"
      ]
     },
     "execution_count": 22,
     "metadata": {},
     "output_type": "execute_result"
    }
   ],
   "source": [
    "#Lett's apply the education_consistency() function to the Education column:\n",
    "customers[\"Education\"].apply(education_consistency)"
   ]
  },
  {
   "cell_type": "code",
   "execution_count": 23,
   "id": "ea0162bf",
   "metadata": {},
   "outputs": [
    {
     "data": {
      "text/plain": [
       "array(['Four-Door Car', 'Two-Door Car', 'SUV', 'Luxury SUV', 'Sports Car',\n",
       "       'Luxury Car'], dtype=object)"
      ]
     },
     "execution_count": 23,
     "metadata": {},
     "output_type": "execute_result"
    }
   ],
   "source": [
    "#Now, let's check the Vehicle class:\n",
    "customers[\"Vehicle Class\"].unique() #It is ok "
   ]
  },
  {
   "cell_type": "code",
   "execution_count": 22,
   "id": "f82baba3",
   "metadata": {},
   "outputs": [
    {
     "name": "stdout",
     "output_type": "stream",
     "text": [
      "       Customer Lifetime Value    Income  Monthly Premium Auto  \\\n",
      "count                  1068.00   1071.00               1071.00   \n",
      "mean                   7936.90  39295.70                193.23   \n",
      "std                    6434.78  30469.43               1601.19   \n",
      "min                    2004.35      0.00                 61.00   \n",
      "25%                    4034.08  14072.00                 68.00   \n",
      "50%                    5881.74  36234.00                 83.00   \n",
      "75%                    8962.87  64631.00                109.50   \n",
      "max                   58166.55  99960.00              35354.00   \n",
      "\n",
      "       Total Claim Amount  \n",
      "count             1071.00  \n",
      "mean               404.99  \n",
      "std                293.03  \n",
      "min                  0.38  \n",
      "25%                202.16  \n",
      "50%                354.73  \n",
      "75%                532.80  \n",
      "max               2893.24  \n"
     ]
    }
   ],
   "source": [
    "# 1.4 Compute summary statistics such as mean, median, mode, standard deviation, and quartiles to understand the central tendency and distribution of \n",
    "# the data (for numerical columns). You should also provide your conclusions based on these summary statistics.\n",
    "statistical_sumary = customers.describe().round(2)\n",
    "print(statistical_sumary)\n",
    "\n",
    "#CLV: The std is HUGE. We can see it from the min and max values. We can also see that the 75% quartile is almost 9k.\n",
    "#This indicates that there are few values with extremely high CLV that are pulling up the mean.\n",
    "# Income: happens similar to the CLV."
   ]
  },
  {
   "cell_type": "markdown",
   "id": "4a703890-63db-4944-b7ab-95a4f8185120",
   "metadata": {},
   "source": [
    "## Challenge 2: analyzing the data"
   ]
  },
  {
   "cell_type": "markdown",
   "id": "0776a403-c56a-452f-ac33-5fd4fdb06fc7",
   "metadata": {},
   "source": [
    "### Exercise 1"
   ]
  },
  {
   "cell_type": "markdown",
   "id": "eedbc484-da4d-4f9c-9343-e1d44311a87e",
   "metadata": {},
   "source": [
    "The marketing team wants to know the top 5 less common customer locations. Create a pandas Series object that contains the customer locations and their frequencies, and then retrieve the top 5 less common locations in ascending order."
   ]
  },
  {
   "cell_type": "code",
   "execution_count": 31,
   "id": "2dca5073-4520-4f42-9390-4b92733284ed",
   "metadata": {},
   "outputs": [
    {
     "name": "stdout",
     "output_type": "stream",
     "text": [
      "ST\n",
      "AZ             25\n",
      "WA             30\n",
      "Washington     81\n",
      "Nevada         98\n",
      "Cali          120\n",
      "Arizona       186\n",
      "California    211\n",
      "Oregon        320\n",
      "Name: count, dtype: int64\n"
     ]
    }
   ],
   "source": [
    "# 2.1 Create a pandas Series object that contains the customer locations and their frequencies.\n",
    "# Then, retrieve the top 5 less common locations in ascending order.\n",
    "ST_counts = customers[\"ST\"].value_counts().sort_values()\n",
    "print(ST_counts)"
   ]
  },
  {
   "cell_type": "markdown",
   "id": "0ce80f43-4afa-43c7-a78a-c917444da4e0",
   "metadata": {},
   "source": [
    "### Exercise 2\n",
    "\n",
    "The sales team wants to know the total number of policies sold for each type of policy. Create a pandas Series object that contains the policy types and their total number of policies sold, and then retrieve the policy type with the highest number of policies sold."
   ]
  },
  {
   "cell_type": "markdown",
   "id": "a9f13997-1555-4f98-aca6-970fda1d2c3f",
   "metadata": {},
   "source": [
    "*Hint:*\n",
    "- *Using value_counts() method simplifies this analysis.*\n",
    "- *Futhermore, there is a method that returns the index of the maximum value in a column or row.*\n"
   ]
  },
  {
   "cell_type": "code",
   "execution_count": 35,
   "id": "bcfad6c1-9af2-4b0b-9aa9-0dc5c17473c0",
   "metadata": {},
   "outputs": [
    {
     "name": "stdout",
     "output_type": "stream",
     "text": [
      "Policy Type\n",
      "Personal Auto     780\n",
      "Corporate Auto    234\n",
      "Special Auto       57\n",
      "Name: count, dtype: int64\n",
      "Personal Auto\n"
     ]
    }
   ],
   "source": [
    "policy_type_counts = customers[\"Policy Type\"].value_counts()\n",
    "print(policy_type_counts)\n",
    "print(policy_type_counts.idxmax())"
   ]
  },
  {
   "cell_type": "markdown",
   "id": "0b863fd3-bf91-4d5d-86eb-be29ed9f5b70",
   "metadata": {},
   "source": [
    "### Exercise 3\n",
    "\n",
    "The sales team wants to know if customers with Personal Auto have a lower income than those with Corporate Auto. How does the average income compare between the two policy types?"
   ]
  },
  {
   "cell_type": "markdown",
   "id": "b1386d75-2810-4aa1-93e0-9485aa12d552",
   "metadata": {},
   "source": [
    "- Use *loc* to create two dataframes: one containing only Personal Auto policies and one containing only Corporate Auto policies.\n",
    "- Calculate the average income for each policy.\n",
    "- Print the results."
   ]
  },
  {
   "cell_type": "code",
   "execution_count": 47,
   "id": "0c0563cf-6f8b-463d-a321-651a972f82e5",
   "metadata": {},
   "outputs": [
    {
     "name": "stdout",
     "output_type": "stream",
     "text": [
      "38180.7\n",
      "41390.31\n"
     ]
    }
   ],
   "source": [
    "personal_auto = customers.loc[customers[\"Policy Type\"] == \"Personal Auto\"]\n",
    "print(personal_auto.loc[:,\"Income\"].mean().round(2))\n",
    "\n",
    "corporate_auto = customers.loc[customers[\"Policy Type\"] == \"Corporate Auto\"]\n",
    "print(corporate_auto.loc[:,\"Income\"].mean().round(2))\n",
    "\n",
    "#We can see that the mean difference between the 2 policy types is 3209. I do not think it is significant, but a t-test should be coducted to affirm that."
   ]
  },
  {
   "cell_type": "markdown",
   "id": "80b16c27-f4a5-4727-a229-1f88671cf4e2",
   "metadata": {},
   "source": [
    "### Bonus: Exercise 4\n"
   ]
  },
  {
   "cell_type": "markdown",
   "id": "ac584986-299b-475f-ac2e-928c16c3f512",
   "metadata": {},
   "source": [
    "Your goal is to identify customers with a high policy claim amount.\n",
    "\n",
    "Instructions:\n",
    "\n",
    "- Review again the statistics for total claim amount to gain an understanding of the data.\n",
    "- To identify potential areas for improving customer retention and profitability, we want to focus on customers with a high policy claim amount. Consider customers with a high policy claim amount to be those in the top 25% of the total claim amount. Create a pandas DataFrame object that contains information about customers with a policy claim amount greater than the 75th percentile.\n",
    "- Use DataFrame methods to calculate summary statistics about the high policy claim amount data. "
   ]
  },
  {
   "cell_type": "markdown",
   "id": "4e3af5f1-6023-4b05-9c01-d05392daa650",
   "metadata": {},
   "source": [
    "*Note: When analyzing data, we often want to focus on certain groups of values to gain insights. Percentiles are a useful tool to help us define these groups. A percentile is a measure that tells us what percentage of values in a dataset are below a certain value. For example, the 75th percentile represents the value below which 75% of the data falls. Similarly, the 25th percentile represents the value below which 25% of the data falls. When we talk about the top 25%, we are referring to the values that fall above the 75th percentile, which represent the top quarter of the data. On the other hand, when we talk about the bottom 25%, we are referring to the values that fall below the 25th percentile, which represent the bottom quarter of the data. By focusing on these groups, we can identify patterns and trends that may be useful for making decisions and taking action.*\n",
    "\n",
    "*Hint: look for a method that gives you the percentile or quantile 0.75 and 0.25 for a Pandas Series.*"
   ]
  },
  {
   "cell_type": "markdown",
   "id": "2d234634-50bd-41e0-88f7-d5ba684455d1",
   "metadata": {},
   "source": [
    "*Hint 2: check `Boolean selection according to the values of a single column` in https://towardsdatascience.com/filtering-data-frames-in-pandas-b570b1f834b9*"
   ]
  },
  {
   "cell_type": "code",
   "execution_count": 50,
   "id": "b731bca6-a760-4860-a27b-a33efa712ce0",
   "metadata": {},
   "outputs": [
    {
     "data": {
      "text/plain": [
       "count    1071.00\n",
       "mean      404.99\n",
       "std       293.03\n",
       "min         0.38\n",
       "25%       202.16\n",
       "50%       354.73\n",
       "75%       532.80\n",
       "max      2893.24\n",
       "Name: Total Claim Amount, dtype: float64"
      ]
     },
     "execution_count": 50,
     "metadata": {},
     "output_type": "execute_result"
    }
   ],
   "source": [
    "#4.1 Review again the statistics for total claim amount to gain an understanding of the data\n",
    "customers[\"Total Claim Amount\"].describe().round(2)"
   ]
  },
  {
   "cell_type": "code",
   "execution_count": 59,
   "id": "14c216d6",
   "metadata": {},
   "outputs": [
    {
     "data": {
      "text/html": [
       "<div>\n",
       "<style scoped>\n",
       "    .dataframe tbody tr th:only-of-type {\n",
       "        vertical-align: middle;\n",
       "    }\n",
       "\n",
       "    .dataframe tbody tr th {\n",
       "        vertical-align: top;\n",
       "    }\n",
       "\n",
       "    .dataframe thead th {\n",
       "        text-align: right;\n",
       "    }\n",
       "</style>\n",
       "<table border=\"1\" class=\"dataframe\">\n",
       "  <thead>\n",
       "    <tr style=\"text-align: right;\">\n",
       "      <th></th>\n",
       "      <th>Customer</th>\n",
       "      <th>ST</th>\n",
       "      <th>GENDER</th>\n",
       "      <th>Education</th>\n",
       "      <th>Customer Lifetime Value</th>\n",
       "      <th>Income</th>\n",
       "      <th>Monthly Premium Auto</th>\n",
       "      <th>Number of Open Complaints</th>\n",
       "      <th>Policy Type</th>\n",
       "      <th>Vehicle Class</th>\n",
       "      <th>Total Claim Amount</th>\n",
       "    </tr>\n",
       "  </thead>\n",
       "  <tbody>\n",
       "    <tr>\n",
       "      <th>1</th>\n",
       "      <td>QZ44356</td>\n",
       "      <td>Arizona</td>\n",
       "      <td>F</td>\n",
       "      <td>Bachelor</td>\n",
       "      <td>6979.5359</td>\n",
       "      <td>0.0</td>\n",
       "      <td>94.0</td>\n",
       "      <td>1/0/00</td>\n",
       "      <td>Personal Auto</td>\n",
       "      <td>Four-Door Car</td>\n",
       "      <td>1131.464935</td>\n",
       "    </tr>\n",
       "    <tr>\n",
       "      <th>2</th>\n",
       "      <td>AI49188</td>\n",
       "      <td>Nevada</td>\n",
       "      <td>F</td>\n",
       "      <td>Bachelor</td>\n",
       "      <td>12887.4317</td>\n",
       "      <td>48767.0</td>\n",
       "      <td>108.0</td>\n",
       "      <td>1/0/00</td>\n",
       "      <td>Personal Auto</td>\n",
       "      <td>Two-Door Car</td>\n",
       "      <td>566.472247</td>\n",
       "    </tr>\n",
       "    <tr>\n",
       "      <th>17</th>\n",
       "      <td>OE15005</td>\n",
       "      <td>Cali</td>\n",
       "      <td>NaN</td>\n",
       "      <td>College</td>\n",
       "      <td>3945.2416</td>\n",
       "      <td>28855.0</td>\n",
       "      <td>101.0</td>\n",
       "      <td>1/0/00</td>\n",
       "      <td>Personal Auto</td>\n",
       "      <td>SUV</td>\n",
       "      <td>647.442031</td>\n",
       "    </tr>\n",
       "    <tr>\n",
       "      <th>23</th>\n",
       "      <td>TZ98966</td>\n",
       "      <td>Nevada</td>\n",
       "      <td>NaN</td>\n",
       "      <td>Bachelor</td>\n",
       "      <td>2450.1910</td>\n",
       "      <td>0.0</td>\n",
       "      <td>73.0</td>\n",
       "      <td>1/3/00</td>\n",
       "      <td>Corporate Auto</td>\n",
       "      <td>Four-Door Car</td>\n",
       "      <td>554.376763</td>\n",
       "    </tr>\n",
       "    <tr>\n",
       "      <th>26</th>\n",
       "      <td>US89481</td>\n",
       "      <td>California</td>\n",
       "      <td>NaN</td>\n",
       "      <td>Bachelor</td>\n",
       "      <td>3946.3721</td>\n",
       "      <td>0.0</td>\n",
       "      <td>111.0</td>\n",
       "      <td>1/0/00</td>\n",
       "      <td>Personal Auto</td>\n",
       "      <td>Four-Door Car</td>\n",
       "      <td>799.200000</td>\n",
       "    </tr>\n",
       "    <tr>\n",
       "      <th>...</th>\n",
       "      <td>...</td>\n",
       "      <td>...</td>\n",
       "      <td>...</td>\n",
       "      <td>...</td>\n",
       "      <td>...</td>\n",
       "      <td>...</td>\n",
       "      <td>...</td>\n",
       "      <td>...</td>\n",
       "      <td>...</td>\n",
       "      <td>...</td>\n",
       "      <td>...</td>\n",
       "    </tr>\n",
       "    <tr>\n",
       "      <th>1059</th>\n",
       "      <td>YG44474</td>\n",
       "      <td>Oregon</td>\n",
       "      <td>M</td>\n",
       "      <td>College</td>\n",
       "      <td>14014.7213</td>\n",
       "      <td>54193.0</td>\n",
       "      <td>117.0</td>\n",
       "      <td>1/0/00</td>\n",
       "      <td>Corporate Auto</td>\n",
       "      <td>SUV</td>\n",
       "      <td>720.752945</td>\n",
       "    </tr>\n",
       "    <tr>\n",
       "      <th>1061</th>\n",
       "      <td>RY92647</td>\n",
       "      <td>Cali</td>\n",
       "      <td>F</td>\n",
       "      <td>Bachelor</td>\n",
       "      <td>10506.7717</td>\n",
       "      <td>0.0</td>\n",
       "      <td>92.0</td>\n",
       "      <td>1/0/00</td>\n",
       "      <td>Personal Auto</td>\n",
       "      <td>Four-Door Car</td>\n",
       "      <td>546.524896</td>\n",
       "    </tr>\n",
       "    <tr>\n",
       "      <th>1068</th>\n",
       "      <td>GS98873</td>\n",
       "      <td>Arizona</td>\n",
       "      <td>F</td>\n",
       "      <td>Bachelor</td>\n",
       "      <td>3239.1247</td>\n",
       "      <td>16061.0</td>\n",
       "      <td>88.0</td>\n",
       "      <td>1/0/00</td>\n",
       "      <td>Personal Auto</td>\n",
       "      <td>Four-Door Car</td>\n",
       "      <td>633.600000</td>\n",
       "    </tr>\n",
       "    <tr>\n",
       "      <th>1069</th>\n",
       "      <td>CW49887</td>\n",
       "      <td>California</td>\n",
       "      <td>F</td>\n",
       "      <td>Master</td>\n",
       "      <td>4626.8011</td>\n",
       "      <td>79487.0</td>\n",
       "      <td>114.0</td>\n",
       "      <td>1/0/00</td>\n",
       "      <td>Special Auto</td>\n",
       "      <td>SUV</td>\n",
       "      <td>547.200000</td>\n",
       "    </tr>\n",
       "    <tr>\n",
       "      <th>1070</th>\n",
       "      <td>MY31220</td>\n",
       "      <td>California</td>\n",
       "      <td>F</td>\n",
       "      <td>College</td>\n",
       "      <td>8997.0402</td>\n",
       "      <td>54230.0</td>\n",
       "      <td>112.0</td>\n",
       "      <td>1/0/00</td>\n",
       "      <td>Personal Auto</td>\n",
       "      <td>Two-Door Car</td>\n",
       "      <td>537.600000</td>\n",
       "    </tr>\n",
       "  </tbody>\n",
       "</table>\n",
       "<p>273 rows × 11 columns</p>\n",
       "</div>"
      ],
      "text/plain": [
       "     Customer          ST GENDER Education  Customer Lifetime Value   Income  \\\n",
       "1     QZ44356     Arizona      F  Bachelor                6979.5359      0.0   \n",
       "2     AI49188      Nevada      F  Bachelor               12887.4317  48767.0   \n",
       "17    OE15005        Cali    NaN   College                3945.2416  28855.0   \n",
       "23    TZ98966      Nevada    NaN  Bachelor                2450.1910      0.0   \n",
       "26    US89481  California    NaN  Bachelor                3946.3721      0.0   \n",
       "...       ...         ...    ...       ...                      ...      ...   \n",
       "1059  YG44474      Oregon      M   College               14014.7213  54193.0   \n",
       "1061  RY92647        Cali      F  Bachelor               10506.7717      0.0   \n",
       "1068  GS98873     Arizona      F  Bachelor                3239.1247  16061.0   \n",
       "1069  CW49887  California      F    Master                4626.8011  79487.0   \n",
       "1070  MY31220  California      F   College                8997.0402  54230.0   \n",
       "\n",
       "      Monthly Premium Auto Number of Open Complaints     Policy Type  \\\n",
       "1                     94.0                    1/0/00   Personal Auto   \n",
       "2                    108.0                    1/0/00   Personal Auto   \n",
       "17                   101.0                    1/0/00   Personal Auto   \n",
       "23                    73.0                    1/3/00  Corporate Auto   \n",
       "26                   111.0                    1/0/00   Personal Auto   \n",
       "...                    ...                       ...             ...   \n",
       "1059                 117.0                    1/0/00  Corporate Auto   \n",
       "1061                  92.0                    1/0/00   Personal Auto   \n",
       "1068                  88.0                    1/0/00   Personal Auto   \n",
       "1069                 114.0                    1/0/00    Special Auto   \n",
       "1070                 112.0                    1/0/00   Personal Auto   \n",
       "\n",
       "      Vehicle Class  Total Claim Amount  \n",
       "1     Four-Door Car         1131.464935  \n",
       "2      Two-Door Car          566.472247  \n",
       "17              SUV          647.442031  \n",
       "23    Four-Door Car          554.376763  \n",
       "26    Four-Door Car          799.200000  \n",
       "...             ...                 ...  \n",
       "1059            SUV          720.752945  \n",
       "1061  Four-Door Car          546.524896  \n",
       "1068  Four-Door Car          633.600000  \n",
       "1069            SUV          547.200000  \n",
       "1070   Two-Door Car          537.600000  \n",
       "\n",
       "[273 rows x 11 columns]"
      ]
     },
     "execution_count": 59,
     "metadata": {},
     "output_type": "execute_result"
    }
   ],
   "source": [
    "#4.2 Create a Pandas DF object that contains information about customers ith a policy claim amount higher than the 75th percentile.\n",
    "quantile_75_df = customers.loc[customers[\"Total Claim Amount\"] >= customers[\"Total Claim Amount\"].quantile(0.75)]\n",
    "quantile_75_df"
   ]
  },
  {
   "cell_type": "code",
   "execution_count": 61,
   "id": "309f54d1",
   "metadata": {},
   "outputs": [
    {
     "data": {
      "text/html": [
       "<div>\n",
       "<style scoped>\n",
       "    .dataframe tbody tr th:only-of-type {\n",
       "        vertical-align: middle;\n",
       "    }\n",
       "\n",
       "    .dataframe tbody tr th {\n",
       "        vertical-align: top;\n",
       "    }\n",
       "\n",
       "    .dataframe thead th {\n",
       "        text-align: right;\n",
       "    }\n",
       "</style>\n",
       "<table border=\"1\" class=\"dataframe\">\n",
       "  <thead>\n",
       "    <tr style=\"text-align: right;\">\n",
       "      <th></th>\n",
       "      <th>Customer Lifetime Value</th>\n",
       "      <th>Income</th>\n",
       "      <th>Monthly Premium Auto</th>\n",
       "      <th>Total Claim Amount</th>\n",
       "    </tr>\n",
       "  </thead>\n",
       "  <tbody>\n",
       "    <tr>\n",
       "      <th>count</th>\n",
       "      <td>273.00</td>\n",
       "      <td>273.00</td>\n",
       "      <td>273.00</td>\n",
       "      <td>273.00</td>\n",
       "    </tr>\n",
       "    <tr>\n",
       "      <th>mean</th>\n",
       "      <td>9183.79</td>\n",
       "      <td>24106.55</td>\n",
       "      <td>163.00</td>\n",
       "      <td>774.01</td>\n",
       "    </tr>\n",
       "    <tr>\n",
       "      <th>std</th>\n",
       "      <td>6582.58</td>\n",
       "      <td>27542.72</td>\n",
       "      <td>613.65</td>\n",
       "      <td>291.30</td>\n",
       "    </tr>\n",
       "    <tr>\n",
       "      <th>min</th>\n",
       "      <td>2287.60</td>\n",
       "      <td>0.00</td>\n",
       "      <td>63.00</td>\n",
       "      <td>532.80</td>\n",
       "    </tr>\n",
       "    <tr>\n",
       "      <th>25%</th>\n",
       "      <td>4747.73</td>\n",
       "      <td>0.00</td>\n",
       "      <td>99.00</td>\n",
       "      <td>595.20</td>\n",
       "    </tr>\n",
       "    <tr>\n",
       "      <th>50%</th>\n",
       "      <td>7859.41</td>\n",
       "      <td>18846.00</td>\n",
       "      <td>113.00</td>\n",
       "      <td>673.34</td>\n",
       "    </tr>\n",
       "    <tr>\n",
       "      <th>75%</th>\n",
       "      <td>10656.88</td>\n",
       "      <td>44897.00</td>\n",
       "      <td>133.00</td>\n",
       "      <td>844.48</td>\n",
       "    </tr>\n",
       "    <tr>\n",
       "      <th>max</th>\n",
       "      <td>40224.01</td>\n",
       "      <td>99316.00</td>\n",
       "      <td>10202.00</td>\n",
       "      <td>2893.24</td>\n",
       "    </tr>\n",
       "  </tbody>\n",
       "</table>\n",
       "</div>"
      ],
      "text/plain": [
       "       Customer Lifetime Value    Income  Monthly Premium Auto  \\\n",
       "count                   273.00    273.00                273.00   \n",
       "mean                   9183.79  24106.55                163.00   \n",
       "std                    6582.58  27542.72                613.65   \n",
       "min                    2287.60      0.00                 63.00   \n",
       "25%                    4747.73      0.00                 99.00   \n",
       "50%                    7859.41  18846.00                113.00   \n",
       "75%                   10656.88  44897.00                133.00   \n",
       "max                   40224.01  99316.00              10202.00   \n",
       "\n",
       "       Total Claim Amount  \n",
       "count              273.00  \n",
       "mean               774.01  \n",
       "std                291.30  \n",
       "min                532.80  \n",
       "25%                595.20  \n",
       "50%                673.34  \n",
       "75%                844.48  \n",
       "max               2893.24  "
      ]
     },
     "execution_count": 61,
     "metadata": {},
     "output_type": "execute_result"
    }
   ],
   "source": [
    "#4.3 Use DataFrame methods to calculate summary statistics about the high policy claim about data\n",
    "quantile_75_df.describe().round(2)"
   ]
  }
 ],
 "metadata": {
  "kernelspec": {
   "display_name": "Python 3 (ipykernel)",
   "language": "python",
   "name": "python3"
  },
  "language_info": {
   "codemirror_mode": {
    "name": "ipython",
    "version": 3
   },
   "file_extension": ".py",
   "mimetype": "text/x-python",
   "name": "python",
   "nbconvert_exporter": "python",
   "pygments_lexer": "ipython3",
   "version": "3.11.7"
  }
 },
 "nbformat": 4,
 "nbformat_minor": 5
}
